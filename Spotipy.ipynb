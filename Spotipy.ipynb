{
 "cells": [
  {
   "cell_type": "code",
   "execution_count": 1,
   "metadata": {},
   "outputs": [],
   "source": [
    "import spotipy\n",
    "import spotipy.oauth2 as oauth2\n",
    "from spotipy.oauth2 import SpotifyOAuth\n",
    "from spotipy.oauth2 import SpotifyClientCredentials\n",
    "import pandas as pd\n",
    "import time"
   ]
  },
  {
   "cell_type": "code",
   "execution_count": 2,
   "metadata": {},
   "outputs": [
    {
     "name": "stdout",
     "output_type": "stream",
     "text": [
      "CSV for Angry generated.\n",
      "CSV for Disgusted generated.\n",
      "CSV for Fearful generated.\n",
      "CSV for Happy generated.\n",
      "CSV for Neutral generated.\n",
      "CSV for Sad generated.\n",
      "CSV for Surprised generated.\n"
     ]
    }
   ],
   "source": [
    "\n",
    "client_id = 'e7f12c16406e4ac2a1fe19f334f84ee2'\n",
    "client_secret = '2b2b03d5e0ed41bea06ee6738ddf09fd'\n",
    "\n",
    "auth_manager = SpotifyClientCredentials(client_id, client_secret)\n",
    "sp = spotipy.Spotify(auth_manager=auth_manager)\n",
    "\n",
    "def getTrackIDs(user, playlist_id):\n",
    "    track_ids = []\n",
    "    playlist = sp.user_playlist(user, playlist_id)\n",
    "    for item in playlist['tracks']['items']:\n",
    "        track = item['track']\n",
    "        track_ids.append(track['id'])\n",
    "    return track_ids\n",
    "\n",
    "def getTrackFeatures(id):\n",
    "    track_info = sp.track(id)\n",
    "\n",
    "    name = track_info['name']\n",
    "    album = track_info['album']['name']\n",
    "    artist = track_info['album']['artists'][0]['name']\n",
    "    release_date = track_info['album']['release_date']\n",
    "    length = track_info['duration_ms']\n",
    "    popularity = track_info['popularity']\n",
    "\n",
    "    track_data = [name, album, artist, release_date, length, popularity]\n",
    "    return track_data\n",
    "\n",
    "emotion_dict = {0:\"Angry\",1:\"Disgusted\",2:\"Fearful\",3:\"Happy\",4:\"Neutral\",5:\"Sad\",6:\"Surprised\"}\n",
    "music_dist = {\n",
    "    0: \"0l9dAmBrUJLylii66JOsHB\",\n",
    "    1: \"1n6cpWo9ant4WguEo91KZh\",\n",
    "    2: \"4cllEPvFdoX6NIVWPKai9I\",\n",
    "    3: \"0deORnapZgrxFY4nsKr9JA\",\n",
    "    4: \"4kvSlabrnfRCQWfN0MgtgA\",\n",
    "    5: \"1n6cpWo9ant4WguEo91KZh\",\n",
    "    6: \"37i9dQZEVXbMDoHDwVN2tF\"\n",
    "}\n",
    "\n",
    "def fetch_tracks(emotion_index):\n",
    "    track_ids = getTrackIDs('spotify', music_dist[emotion_index])\n",
    "    track_list = []\n",
    "    for i in range(len(track_ids)):\n",
    "        time.sleep(.3)  \n",
    "        track_data = getTrackFeatures(track_ids[i])\n",
    "        track_list.append(track_data)\n",
    "    df = pd.DataFrame(track_list, columns=['Name', 'Album', 'Artist', 'Release_date', 'Length', 'Popularity'])\n",
    "    df.to_csv(f'songs/{emotion_dict[emotion_index].lower()}.csv', index=False)\n",
    "    print(f\"CSV for {emotion_dict[emotion_index]} generated.\")\n",
    "\n",
    "for emotion_index in emotion_dict:\n",
    "    fetch_tracks(emotion_index)\n"
   ]
  }
 ],
 "metadata": {
  "kernelspec": {
   "display_name": "Python 3",
   "language": "python",
   "name": "python3"
  },
  "language_info": {
   "codemirror_mode": {
    "name": "ipython",
    "version": 3
   },
   "file_extension": ".py",
   "mimetype": "text/x-python",
   "name": "python",
   "nbconvert_exporter": "python",
   "pygments_lexer": "ipython3",
   "version": "3.8.0"
  }
 },
 "nbformat": 4,
 "nbformat_minor": 2
}
