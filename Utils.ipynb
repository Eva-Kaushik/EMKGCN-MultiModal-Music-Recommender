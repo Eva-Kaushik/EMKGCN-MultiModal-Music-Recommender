{
 "cells": [
  {
   "cell_type": "code",
   "execution_count": 1,
   "metadata": {},
   "outputs": [
    {
     "name": "stdout",
     "output_type": "stream",
     "text": [
      "Note: you may need to restart the kernel to use updated packages.Requirement already satisfied: pandas in c:\\users\\ekaushik\\appdata\\local\\programs\\python\\python36\\lib\\site-packages\n",
      "Requirement already satisfied: pytz>=2017.2 in c:\\users\\ekaushik\\appdata\\local\\programs\\python\\python36\\lib\\site-packages (from pandas)\n",
      "Requirement already satisfied: numpy>=1.15.4 in c:\\users\\ekaushik\\appdata\\local\\programs\\python\\python36\\lib\\site-packages (from pandas)\n",
      "Requirement already satisfied: python-dateutil>=2.7.3 in c:\\users\\ekaushik\\appdata\\roaming\\python\\python36\\site-packages (from pandas)\n",
      "Requirement already satisfied: six>=1.5 in c:\\users\\ekaushik\\appdata\\roaming\\python\\python36\\site-packages (from python-dateutil>=2.7.3->pandas)\n",
      "\n"
     ]
    },
    {
     "name": "stderr",
     "output_type": "stream",
     "text": [
      "You are using pip version 9.0.3, however version 24.0 is available.\n",
      "You should consider upgrading via the 'python -m pip install --upgrade pip' command.\n"
     ]
    }
   ],
   "source": [
    "import datetime\n",
    "import numpy as np\n",
    "%pip install pandas\n",
    "import pandas as pd\n",
    "from sklearn.decomposition import PCA"
   ]
  },
  {
   "cell_type": "code",
   "execution_count": 2,
   "metadata": {},
   "outputs": [
    {
     "name": "stdout",
     "output_type": "stream",
     "text": [
      "Script is executing...\n"
     ]
    }
   ],
   "source": [
    "def args_print(args):\n",
    "    print(args)\n",
    "    if args.multimodal:\n",
    "        modal_list = ['lyrics_word2vec', 'mfcc_bow', 'chroma_bow', 'emobase_bow', 'essentia', 'lyrics_sentiment', 'resnet']\n",
    "        print(\"The modals have: \", end='')\n",
    "        for i in args.modals:\n",
    "            print(modal_list[i], end=',')\n",
    "        print()\n",
    "    current_time = datetime.datetime.now()\n",
    "    print(\"Model training start at time: \" + current_time.strftime(\"%Y-%m-%d %H:%M:%S\"))\n",
    "\n",
    "def reduce_dimensions(modal_dict, dim, modals):\n",
    "    print(\"Reducing dimensions...\")\n",
    "    pca = PCA(n_components=dim)\n",
    "    modal_list = np.array(list(modal_dict.values()))\n",
    "    reduced_modal_list = []\n",
    "    for i in range(len(modals)):\n",
    "        reduced_modal_list.append(pca.fit_transform(modal_list[:, i, :]))\n",
    "    reduced_modal_list = np.transpose(reduced_modal_list, (1, 0, 2))\n",
    "    modal_dict_new = dict.fromkeys(modal_dict, None)\n",
    "    for key in modal_dict_new:\n",
    "        modal_dict_new[key] = reduced_modal_list[0]\n",
    "    print(\"Dimensions reduced.\")\n",
    "    return modal_dict_new\n",
    "\n",
    "def tenet_itemID2entityID(modal_dict, entity_encoder, filepath, sep):\n",
    "    print(\"Converting ItemID to EntityID...\")\n",
    "    itemID2entityID = pd.read_csv(filepath, sep=sep, names=['itemID', 'entityID'], header=None, skiprows=1)\n",
    "    new_modal_dict = {itemID2entityID.loc[itemID2entityID['itemID'] == k, 'entityID'].values[0]: v for k, v in modal_dict.items()}\n",
    "    modal_dict = new_modal_dict\n",
    "    keys_list = list(modal_dict.keys())\n",
    "    value_list = list(modal_dict.values())\n",
    "    encoded_list = entity_encoder.transform(keys_list)\n",
    "    modal_dict = dict(zip(encoded_list, value_list))\n",
    "    print(\"ItemID to EntityID conversion complete.\")\n",
    "    return modal_dict\n",
    "\n",
    "def build_emotion_representation_model():\n",
    "    print(\"Building Emotion Representation Model...\")\n",
    "    pass\n",
    "\n",
    "def build_user_emotion_state_model():\n",
    "    print(\"Building User Emotion State Model...\")\n",
    "    pass\n",
    "\n",
    "def construct_mkgcn():\n",
    "    print(\"Constructing MKGCN...\")\n",
    "    pass\n",
    "\n",
    "def train_model():\n",
    "    print(\"Training models...\")\n",
    "    pass\n",
    "\n",
    "def evaluate_model():\n",
    "    print(\"Evaluating models...\")\n",
    "    pass\n",
    "\n",
    "print(\"Script is executing...\")\n"
   ]
  }
 ],
 "metadata": {
  "kernelspec": {
   "display_name": "venv3.6",
   "language": "python",
   "name": "python3"
  },
  "language_info": {
   "codemirror_mode": {
    "name": "ipython",
    "version": 3
   },
   "file_extension": ".py",
   "mimetype": "text/x-python",
   "name": "python",
   "nbconvert_exporter": "python",
   "pygments_lexer": "ipython3",
   "version": "3.6.5"
  }
 },
 "nbformat": 4,
 "nbformat_minor": 2
}
