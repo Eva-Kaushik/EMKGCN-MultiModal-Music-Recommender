{
 "cells": [
  {
   "cell_type": "code",
   "execution_count": 3,
   "metadata": {},
   "outputs": [],
   "source": [
    "data_config = {\n",
    "    'music-d': {\n",
    "        'data_directory': 'C:/Users/ekaushik/Desktop/Multimodal-MusicRecommender/data/music-d/',\n",
    "        'itemID2entityID_path': 'C:/Users/ekaushik/Desktop/Multimodal-MusicRecommender/data/music-d/itemID2entityID.txt',\n",
    "        'itemID2entityID_sep': '\\t',\n",
    "        'kg_path': 'C:/Users/ekaushik/Desktop/Multimodal-MusicRecommender/data/music-d/kg.txt',\n",
    "        'kg_sep': '\\t',\n",
    "        'userID2itemID4ratings_path': 'C:/Users/ekaushik/Desktop/Multimodal-MusicRecommender/data/music-d/userID2itemID4ratings.tsv',\n",
    "        'userID2itemID4ratings_sep': '\\t',\n",
    "        'threshold': 5.0,\n",
    "        'modals_path': 'C:/Users/ekaushik/Desktop/Multimodal-MusicRecommender/data/music-d/modals/modal_{}.tsv',\n",
    "        'modals_sep': '\\t'\n",
    "    }\n",
    "}"
   ]
  }
 ],
 "metadata": {
  "kernelspec": {
   "display_name": "venv3.6",
   "language": "python",
   "name": "python3"
  },
  "language_info": {
   "codemirror_mode": {
    "name": "ipython",
    "version": 3
   },
   "file_extension": ".py",
   "mimetype": "text/x-python",
   "name": "python",
   "nbconvert_exporter": "python",
   "pygments_lexer": "ipython3",
   "version": "3.8.0"
  }
 },
 "nbformat": 4,
 "nbformat_minor": 2
}
