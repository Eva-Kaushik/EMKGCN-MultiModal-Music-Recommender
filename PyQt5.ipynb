{
 "cells": [
  {
   "cell_type": "code",
   "execution_count": 1,
   "metadata": {},
   "outputs": [],
   "source": [
    "import sys\n",
    "import os\n",
    "import cv2\n",
    "import numpy as np\n",
    "import pandas as pd\n",
    "import shutil\n",
    "from PyQt5.QtWidgets import QApplication, QMainWindow, QLabel, QPushButton, QVBoxLayout, QWidget, QFileDialog, QScrollArea\n",
    "from PyQt5.QtCore import Qt\n",
    "from PyQt5.QtGui import QPixmap, QFont  \n",
    "from keras.models import load_model"
   ]
  },
  {
   "cell_type": "code",
   "execution_count": 2,
   "metadata": {},
   "outputs": [],
   "source": [
    "class MusicRecommenderApp(QMainWindow):\n",
    "    def __init__(self):\n",
    "        super().__init__()\n",
    "        self.setWindowTitle(\"Music Recommender\")\n",
    "        self.setGeometry(100, 100, 500, 500)  \n",
    "       \n",
    "        self.central_widget = QWidget()\n",
    "        self.setCentralWidget(self.central_widget)\n",
    "       \n",
    "        self.upload_button = QPushButton(\"Upload Image\", self)\n",
    "        self.upload_button.setStyleSheet(\"background-color: purple; color: white\")  \n",
    "        self.upload_button.setFont(QFont(\"Arial\", 12, QFont.Bold))  \n",
    "        self.upload_button.clicked.connect(self.upload_image)\n",
    "       \n",
    "        self.image_label = QLabel(self)  \n",
    "        self.image_label.setAlignment(Qt.AlignmentFlag.AlignCenter)  \n",
    "        self.image_label.setFixedSize(400, 400)  \n",
    "        self.image_label.setPixmap(QPixmap(\"default_image.png\"))  \n",
    "\n",
    "        self.result_label = QLabel(self)\n",
    "        self.result_label.setAlignment(Qt.AlignmentFlag.AlignCenter)\n",
    "        self.result_label.setFont(QFont(\"Arial\", 14, QFont.Bold))  \n",
    "        self.result_label.setText(\"Emotion based Music Recommendation System\")  \n",
    "        self.result_label.setWordWrap(True)  \n",
    "       \n",
    "        self.scroll_area = QScrollArea(self)  \n",
    "        self.scroll_area.setWidgetResizable(True)  \n",
    "        self.scroll_area.setWidget(self.result_label)  \n",
    "        self.scroll_area.hide()  \n",
    "       \n",
    "        self.layout = QVBoxLayout(self.central_widget)\n",
    "        self.layout.addWidget(self.upload_button)\n",
    "        self.layout.addWidget(self.image_label, alignment=Qt.AlignmentFlag.AlignCenter)  \n",
    "        self.layout.addWidget(self.scroll_area)  \n",
    "        \n",
    "        self.model = load_model(\"C:\\\\Users\\\\ekaushik\\\\Desktop\\\\Multimodal-MusicRecommender\\\\Music-Recommender\\\\best_model.h5\")\n",
    "        self.emotion_dict = {0: \"Angry\", 1: \"Disgusted\", 2: \"Fearful\", 3: \"Happy\", 4: \"Neutral\", 5: \"Sad\", 6: \"Surprised\"}\n",
    "       \n",
    "        self.song_directory = 'C:/Users/ekaushik/Desktop/Multimodal-MusicRecommender/Music-Recommender/songs'\n",
    "        self.uploaded_images_directory = 'C:/Users/ekaushik/Desktop/Multimodal-MusicRecommender/Music-Recommender/Uploaded Images'\n",
    "       \n",
    "        os.makedirs(self.uploaded_images_directory, exist_ok=True)\n",
    "        \n",
    "    def detect_emotion(self, image_path):\n",
    "        image = cv2.imread(image_path)\n",
    "        gray = cv2.cvtColor(image, cv2.COLOR_BGR2GRAY)\n",
    "        face_cascade = cv2.CascadeClassifier(cv2.data.haarcascades + 'haarcascade_frontalface_default.xml')\n",
    "        faces = face_cascade.detectMultiScale(gray, 1.3, 5)\n",
    "       \n",
    "        for (x,y,w,h) in faces:\n",
    "            roi_gray = gray[y:y+h, x:x+w]\n",
    "            roi_gray = cv2.resize(roi_gray, (48, 48))\n",
    "            roi = roi_gray.astype('float') / 255.0\n",
    "            roi = np.expand_dims(roi, axis=0)\n",
    "            roi = np.expand_dims(roi, axis=3)\n",
    " \n",
    "            prediction = self.model.predict(roi)[0]\n",
    "            predicted_emotion = np.argmax(prediction)\n",
    "            return self.emotion_dict[predicted_emotion]\n",
    "       \n",
    "        return \"No face detected\"\n",
    "       \n",
    "    def recommend_songs(self, emotion):\n",
    "        csv_path = os.path.join(self.song_directory, f'{emotion.lower()}.csv')\n",
    "        if os.path.exists(csv_path):\n",
    "            df = pd.read_csv(csv_path)\n",
    "            songs = df['Name'].values\n",
    "            return songs\n",
    "        else:\n",
    "            return []\n",
    "       \n",
    "    def upload_image(self):\n",
    "        options = QFileDialog.Options()\n",
    "        file_path, _ = QFileDialog.getOpenFileName(self, \"Upload Image\", \"\", \"Image Files (*.png *.jpg *.jpeg)\", options=options)\n",
    "        if file_path:\n",
    "            emotion = self.detect_emotion(file_path)\n",
    "            songs = self.recommend_songs(emotion)\n",
    "            result_text = f\"Detected emotion: {emotion}\\n\\nRecommended songs:\\n\"\n",
    "            for song in songs:\n",
    "                result_text += f\"- {song}\\n\"\n",
    "            self.result_label.setText(result_text)\n",
    "            self.scroll_area.show()  \n",
    "           \n",
    "          \n",
    "            pixmap = QPixmap(file_path)\n",
    "            pixmap = pixmap.scaledToWidth(400)  \n",
    "            self.image_label.setPixmap(pixmap)\n",
    "           \n",
    "         \n",
    "            file_name = os.path.basename(file_path)\n",
    "            destination_path = os.path.join(self.uploaded_images_directory, file_name)\n",
    "            shutil.copy(file_path, destination_path)\n",
    "            print(f\"Uploaded image saved at: {destination_path}\")"
   ]
  },
  {
   "cell_type": "code",
   "execution_count": 3,
   "metadata": {},
   "outputs": [
    {
     "name": "stdout",
     "output_type": "stream",
     "text": [
      "1/1 [==============================] - 0s 150ms/step\n",
      "Uploaded image saved at: C:/Users/ekaushik/Desktop/Multimodal-MusicRecommender/Music-Recommender/Uploaded Images\\Screenshot 2024-04-14 225857.png\n",
      "1/1 [==============================] - 0s 41ms/step\n",
      "Uploaded image saved at: C:/Users/ekaushik/Desktop/Multimodal-MusicRecommender/Music-Recommender/Uploaded Images\\Screenshot 2024-04-14 230124.png\n",
      "1/1 [==============================] - 0s 32ms/step\n",
      "Uploaded image saved at: C:/Users/ekaushik/Desktop/Multimodal-MusicRecommender/Music-Recommender/Uploaded Images\\Screenshot 2024-04-14 230238.png\n",
      "Uploaded image saved at: C:/Users/ekaushik/Desktop/Multimodal-MusicRecommender/Music-Recommender/Uploaded Images\\Screenshot 2024-04-14 230321.png\n",
      "1/1 [==============================] - 0s 27ms/step\n",
      "Uploaded image saved at: C:/Users/ekaushik/Desktop/Multimodal-MusicRecommender/Music-Recommender/Uploaded Images\\WhatsApp Image 2024-03-05 at 2.43.19 PM.jpeg\n",
      "1/1 [==============================] - 0s 31ms/step\n",
      "Uploaded image saved at: C:/Users/ekaushik/Desktop/Multimodal-MusicRecommender/Music-Recommender/Uploaded Images\\WhatsApp Image 2023-09-25 at 8.27.21 PM.jpeg\n",
      "1/1 [==============================] - 0s 45ms/step\n",
      "Uploaded image saved at: C:/Users/ekaushik/Desktop/Multimodal-MusicRecommender/Music-Recommender/Uploaded Images\\Screenshot_2023-09-08_172330-removebg-preview.png\n",
      "Uploaded image saved at: C:/Users/ekaushik/Desktop/Multimodal-MusicRecommender/Music-Recommender/Uploaded Images\\alien-1905155_1280.png\n"
     ]
    },
    {
     "ename": "SystemExit",
     "evalue": "0",
     "output_type": "error",
     "traceback": [
      "An exception has occurred, use %tb to see the full traceback.\n",
      "\u001b[1;31mSystemExit\u001b[0m\u001b[1;31m:\u001b[0m 0\n"
     ]
    },
    {
     "name": "stderr",
     "output_type": "stream",
     "text": [
      "c:\\Users\\ekaushik\\Desktop\\Multimodal-MusicRecommender\\venv3.11\\lib\\site-packages\\IPython\\core\\interactiveshell.py:3516: UserWarning: To exit: use 'exit', 'quit', or Ctrl-D.\n",
      "  warn(\"To exit: use 'exit', 'quit', or Ctrl-D.\", stacklevel=1)\n"
     ]
    }
   ],
   "source": [
    "\n",
    "if __name__ == '__main__':\n",
    "    app = QApplication(sys.argv)\n",
    "    window = MusicRecommenderApp()\n",
    "    window.show()\n",
    "    sys.exit(app.exec_())"
   ]
  }
 ],
 "metadata": {
  "kernelspec": {
   "display_name": "venv3.11",
   "language": "python",
   "name": "python3"
  },
  "language_info": {
   "codemirror_mode": {
    "name": "ipython",
    "version": 3
   },
   "file_extension": ".py",
   "mimetype": "text/x-python",
   "name": "python",
   "nbconvert_exporter": "python",
   "pygments_lexer": "ipython3",
   "version": "3.8.0"
  }
 },
 "nbformat": 4,
 "nbformat_minor": 2
}
